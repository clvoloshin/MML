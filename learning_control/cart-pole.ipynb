{
 "cells": [
  {
   "cell_type": "markdown",
   "metadata": {},
   "source": [
    "$\\newcommand{\\mb}[1]{\\mathbf{ #1 }}$\n",
    "$\\newcommand{\\bs}[1]{\\boldsymbol{ #1 }}$\n",
    "$\\newcommand{\\bb}[1]{\\mathbb{ #1 }}$\n",
    "\n",
    "$\\newcommand{\\R}{\\bb{R}}$\n",
    "\n",
    "$\\newcommand{\\ip}[2]{\\left\\langle #1, #2 \\right\\rangle}$\n",
    "$\\newcommand{\\norm}[1]{\\left\\Vert #1 \\right\\Vert}$\n",
    "\n",
    "$\\newcommand{\\der}[2]{\\frac{\\mathrm{d} #1 }{\\mathrm{d} #2 }}$\n",
    "$\\newcommand{\\derp}[2]{\\frac{\\partial #1 }{\\partial #2 }}$\n",
    "\n",
    "# Cart Pole"
   ]
  },
  {
   "cell_type": "markdown",
   "metadata": {},
   "source": [
    "Consider a cart on a frictionless track. Suppose a pendulum is attached to the cart by a frictionless joint. The cart is modeled as a point mass $m_c$ and the pendulum is modeled as a massless rigid link with point mass $m_p$ a distance $l$ away from the cart."
   ]
  },
  {
   "cell_type": "markdown",
   "metadata": {},
   "source": [
    "Let $\\mathcal{I} = (\\mb{i}^1, \\mb{i}^2, \\mb{i}^3)$ denote an inertial frame. Suppose the position of the cart is resolved in the inertial frame as $\\mb{r}_{co}^{\\mathcal{I}} = (x, 0, 0)$. Additionally, suppose the gravitational force acting on the pendulum is resolved in the inertial frame as $\\mb{f}_g^{\\mathcal{I}} = (0, 0, -m_p g)$."
   ]
  },
  {
   "cell_type": "markdown",
   "metadata": {},
   "source": [
    "Let $\\mathcal{B} = (\\mb{b}^1, \\mb{b}^2, \\mb{b}^3)$ denote a body reference frame, with $\\mb{b}^2 = \\mb{i}^2$. The position of the pendulum mass relative to the cart is resolved in the body frame as $\\mb{r}_{pc}^\\mathcal{B} = (0, 0, l)$."
   ]
  },
  {
   "cell_type": "markdown",
   "metadata": {},
   "source": [
    "The kinetic energy of the system is:\n",
    "\n",
    "\\begin{equation}\n",
    "    \\frac{1}{2} m_c \\norm{\\dot{\\mb{r}}_{co}^\\mathcal{I}}_2^2 + \\frac{1}{2} m_p \\norm{\\dot{\\mb{r}}_{po}^\\mathcal{I}}_2^2\n",
    "\\end{equation}"
   ]
  },
  {
   "cell_type": "markdown",
   "metadata": {},
   "source": [
    "First, note that $\\dot{\\mb{r}}_{co}^{\\mathcal{I}} = (\\dot{x}, 0, 0)$."
   ]
  },
  {
   "cell_type": "markdown",
   "metadata": {},
   "source": [
    "Next, note that $\\mb{r}_{po}^\\mathcal{I} = \\mb{r}_{pc}^\\mathcal{I} + \\mb{r}_{co}^\\mathcal{I} = \\mb{C}_{\\mathcal{I}\\mathcal{B}}\\mb{r}_{pc}^\\mathcal{B} + \\mb{r}_{co}^\\mathcal{I}$, where $\\mb{C}_{\\mathcal{I}\\mathcal{B}}$ is the direction cosine matrix (DCM) satisfying:\n",
    "\n",
    "\\begin{equation}\n",
    "    \\mb{C}_{\\mathcal{I}\\mathcal{B}} = \\begin{bmatrix} \\ip{\\mb{i}_1}{\\mb{b}_1} & \\ip{\\mb{i}_1}{\\mb{b}_2} & \\ip{\\mb{i}_1}{\\mb{b}_3} \\\\ \\ip{\\mb{i}_2}{\\mb{b}_1} & \\ip{\\mb{i}_2}{\\mb{b}_2} & \\ip{\\mb{i}_2}{\\mb{b}_3} \\\\ \\ip{\\mb{i}_3}{\\mb{b}_1} & \\ip{\\mb{i}_3}{\\mb{b}_2} & \\ip{\\mb{i}_3}{\\mb{b}_3} \\end{bmatrix}.\n",
    "\\end{equation}"
   ]
  },
  {
   "cell_type": "markdown",
   "metadata": {},
   "source": [
    "We parameterize the DCM using $\\theta$, measuring the clockwise angle of the pendulum from upright in radians. In this case, the DCM is:\n",
    "\n",
    "\\begin{equation}\n",
    "    \\mb{C}_{\\mathcal{I}\\mathcal{B}} = \\begin{bmatrix} \\cos{\\theta} & 0 & \\sin{\\theta} \\\\ 0 & 1 & 0 \\\\ -\\sin{\\theta} & 0 & \\cos{\\theta} \\end{bmatrix},\n",
    "\\end{equation}\n",
    "\n",
    "following from $\\cos{\\left( \\frac{\\pi}{2} - \\theta \\right)} = \\sin{\\theta}$. Therefore:\n",
    "\n",
    "\\begin{equation}\n",
    "    \\mb{r}_{po}^\\mathcal{I} = \\begin{bmatrix} x + l\\sin{\\theta} \\\\ 0 \\\\ l\\cos{\\theta} \\end{bmatrix}\n",
    "\\end{equation}"
   ]
  },
  {
   "cell_type": "markdown",
   "metadata": {},
   "source": [
    "We have $\\dot{\\mb{r}}_{po}^\\mathcal{I} = \\dot{\\mb{C}}_{\\mathcal{I}\\mathcal{B}} \\mb{r}_{pc}^\\mathcal{B} + \\dot{\\mb{r}}_{co}^\\mathcal{I}$, following from $\\dot{\\mb{r}}_{pc}^\\mathcal{B} = \\mb{0}_3$ since the pendulum is rigid. The derivative of the DCM is:\n",
    "\n",
    "\\begin{equation}\n",
    "    \\der{{\\mb{C}}_{\\mathcal{I}\\mathcal{B}}}{\\theta} = \\begin{bmatrix} -\\sin{\\theta} & 0 & \\cos{\\theta} \\\\ 0 & 0 & 0 \\\\ -\\cos{\\theta} & 0 & -\\sin{\\theta} \\end{bmatrix},\n",
    "\\end{equation}\n",
    "\n",
    "finally yielding:\n",
    "\n",
    "\\begin{equation}\n",
    "    \\dot{\\mb{r}}_{po}^\\mathcal{I} = \\dot{\\theta}  \\der{\\mb{C}_{\\mathcal{I}\\mathcal{B}}}{\\theta} \\mb{r}^{\\mathcal{B}}_{pc} + \\dot{\\mb{r}}_{co}^\\mathcal{I} = \\begin{bmatrix} l\\dot{\\theta}\\cos{\\theta} + \\dot{x} \\\\ 0 \\\\ -l\\dot{\\theta}\\sin{\\theta} \\end{bmatrix}\n",
    "\\end{equation}"
   ]
  },
  {
   "cell_type": "markdown",
   "metadata": {},
   "source": [
    "Define generalized coordinates $\\mb{q} = (x, \\theta)$ with configuration space $\\mathcal{Q} = \\R \\times \\bb{S}^1$, where $\\bb{S}^1$ denotes the $1$-sphere. The kinetic energy can then be expressed as:\n",
    "\n",
    "\\begin{align}\n",
    "    T(\\mb{q}, \\dot{\\mb{q}}) &= \\frac{1}{2} m_c \\begin{bmatrix} \\dot{x} \\\\ \\dot{\\theta} \\end{bmatrix}^\\top \\begin{bmatrix} 1 & 0 \\\\ 0 & 0 \\end{bmatrix} \\begin{bmatrix} \\dot{x} \\\\ \\dot{\\theta} \\end{bmatrix} + \\frac{1}{2} m_p \\begin{bmatrix} \\dot{x} \\\\ \\dot{\\theta} \\end{bmatrix}^\\top \\begin{bmatrix} 1 & l \\cos{\\theta} \\\\ l \\cos{\\theta} & l^2 \\end{bmatrix} \\begin{bmatrix} \\dot{x} \\\\ \\dot{\\theta} \\end{bmatrix}\\\\\n",
    "    &= \\frac{1}{2} \\dot{\\mb{q}}^\\top\\mb{D}(\\mb{q})\\dot{\\mb{q}},\n",
    "\\end{align}\n",
    "\n",
    "where inertia matrix function $\\mb{D}: \\mathcal{Q} \\to \\bb{S}^2_{++}$ is defined as:\n",
    "\n",
    "\\begin{equation}\n",
    "    \\mb{D}(\\mb{q}) = \\begin{bmatrix} m_c + m_p & m_p l \\cos{\\theta} \\\\ m_p l \\cos{\\theta} & m_pl^2 \\end{bmatrix}.\n",
    "\\end{equation}"
   ]
  },
  {
   "cell_type": "markdown",
   "metadata": {},
   "source": [
    "Note that:\n",
    "\n",
    "\\begin{equation}\n",
    "    \\derp{\\mb{D}}{x} = \\mb{0}_{2 \\times 2},\n",
    "\\end{equation}\n",
    "\n",
    "and:\n",
    "\n",
    "\\begin{equation}\n",
    "    \\derp{\\mb{D}}{\\theta} = \\begin{bmatrix} 0 & -m_p l \\sin{\\theta} \\\\ -m_p l \\sin{\\theta} & 0 \\end{bmatrix},\n",
    "\\end{equation}\n",
    "\n",
    "so we can express:\n",
    "\n",
    "\\begin{equation}\n",
    "    \\derp{\\mb{D}}{\\mb{q}} = -m_p l \\sin{\\theta} (\\mb{e}_1 \\otimes \\mb{e}_2 \\otimes \\mb{e}_2 + \\mb{e}_2 \\otimes \\mb{e}_1 \\otimes \\mb{e}_2).\n",
    "\\end{equation}"
   ]
  },
  {
   "cell_type": "markdown",
   "metadata": {},
   "source": [
    "The potential energy of the system is $U: \\mathcal{Q} \\to \\R$ defined as:\n",
    "\n",
    "\\begin{equation}\n",
    "    U(\\mb{q}) = -\\ip{\\mb{f}_g^\\mathcal{I}}{\\mb{r}^{\\mathcal{I}}_{po}} = m_p g l \\cos{\\theta}.\n",
    "\\end{equation}"
   ]
  },
  {
   "cell_type": "markdown",
   "metadata": {},
   "source": [
    "Define $\\mb{G}: \\mathcal{Q} \\to \\R^2$ as:\n",
    "    \n",
    "\\begin{equation}\n",
    "    \\mb{G}(\\mb{q}) = \\left(\\derp{U}{\\mb{q}}\\right)^\\top = \\begin{bmatrix} 0 \\\\ -m_p g l \\sin{\\theta} \\end{bmatrix}.\n",
    "\\end{equation}"
   ]
  },
  {
   "cell_type": "markdown",
   "metadata": {},
   "source": [
    "Assume a force $(F, 0, 0)$ (resolved in the inertial frame) can be applied to the cart. The Euler-Lagrange equation yields:\n",
    "\n",
    "\\begin{align}\n",
    "    \\der{}{t} \\left( \\derp{T}{\\dot{\\mb{q}}} \\right)^\\top - \\left( \\derp{T}{\\mb{q}} - \\derp{U}{\\mb{q}} \\right)^\\top &= \\der{}{t} \\left( \\mb{D}(\\mb{q})\\dot{\\mb{q}} \\right) - \\frac{1}{2}\\derp{\\mb{D}}{\\mb{q}}(\\dot{\\mb{q}}, \\dot{\\mb{q}}, \\cdot) + \\mb{G}(\\mb{q})\\\\\n",
    "    &= \\mb{D}(\\mb{q})\\ddot{\\mb{q}} + \\derp{\\mb{D}}{\\mb{q}}(\\cdot, \\dot{\\mb{q}}, \\dot{\\mb{q}}) - \\frac{1}{2}\\derp{\\mb{D}}{\\mb{q}}(\\dot{\\mb{q}}, \\dot{\\mb{q}}, \\cdot) + \\mb{G}(\\mb{q})\\\\\n",
    "    &= \\mb{B} F,\n",
    "\\end{align}\n",
    "\n",
    "with static actuation matrix:\n",
    "\n",
    "\\begin{equation}\n",
    "    \\mb{B} = \\begin{bmatrix} 1 \\\\ 0 \\end{bmatrix}.\n",
    "\\end{equation}"
   ]
  },
  {
   "cell_type": "markdown",
   "metadata": {},
   "source": [
    "Note that:\n",
    "\n",
    "\\begin{align}\n",
    "    \\derp{\\mb{D}}{\\mb{q}}(\\cdot, \\dot{\\mb{q}}, \\dot{\\mb{q}}) - \\frac{1}{2}\\derp{\\mb{D}}{\\mb{q}}(\\dot{\\mb{q}}, \\dot{\\mb{q}}, \\cdot) &= -m_p l \\sin{\\theta} (\\mb{e}_1 \\dot{\\theta}\\dot{\\theta} + \\mb{e}_2\\dot{x}\\dot{\\theta}) + \\frac{1}{2} m_p l \\sin{\\theta} (\\dot{x}\\dot{\\theta} \\mb{e}_2 + \\dot{\\theta}\\dot{x} \\mb{e}_2)\\\\\n",
    "    &= \\begin{bmatrix} -m_p l \\dot{\\theta}^2 \\sin{\\theta} \\\\ 0 \\end{bmatrix}\\\\\n",
    "    &= \\mb{C}(\\mb{q}, \\dot{\\mb{q}})\\dot{\\mb{q}},\n",
    "\\end{align}\n",
    "\n",
    "with Coriolis terms defined as:\n",
    "\n",
    "\\begin{equation}\n",
    "    \\mb{C}(\\mb{q}, \\dot{\\mb{q}}) = \\begin{bmatrix} 0 & -m_p l \\sin{\\theta} \\\\ 0 & 0 \\end{bmatrix}.\n",
    "\\end{equation}"
   ]
  },
  {
   "cell_type": "markdown",
   "metadata": {},
   "source": [
    "Finally, we have:\n",
    "\n",
    "\\begin{equation}\n",
    "    \\mb{D}(\\mb{q})\\ddot{\\mb{q}} + \\mb{C}(\\mb{q}, \\dot{\\mb{q}})\\dot{\\mb{q}} + \\mb{G}(\\mb{q}) = \\mb{B}F\n",
    "\\end{equation}"
   ]
  },
  {
   "cell_type": "code",
   "execution_count": 1,
   "metadata": {},
   "outputs": [],
   "source": [
    "from numpy import array, concatenate, cos, dot, reshape, sin, zeros\n",
    "\n",
    "from core.dynamics import RoboticDynamics\n",
    "\n",
    "class CartPole(RoboticDynamics):\n",
    "    def __init__(self, m_c, m_p, l, g=9.81):\n",
    "        RoboticDynamics.__init__(self, 2, 1)\n",
    "        self.params = m_c, m_p, l, g\n",
    "    \n",
    "    def D(self, q):\n",
    "        m_c, m_p, l, _ = self.params\n",
    "        _, theta = q\n",
    "        return array([[m_c + m_p, m_p * l * cos(theta)], [m_p * l * cos(theta), m_p * (l ** 2)]])\n",
    "    \n",
    "    def C(self, q, q_dot):\n",
    "        _, m_p, l, _ = self.params\n",
    "        _, theta = q\n",
    "        _, theta_dot = q_dot\n",
    "        return array([[0, -m_p * l * theta_dot * sin(theta)], [0, 0]])\n",
    "    \n",
    "    def U(self, q):\n",
    "        _, m_p, l, g = self.params\n",
    "        _, theta = q\n",
    "        return m_p * g * l * cos(theta)\n",
    "    \n",
    "    def G(self, q):\n",
    "        _, m_p, l, g = self.params\n",
    "        _, theta = q\n",
    "        return array([0, -m_p * g * l * sin(theta)])\n",
    "    \n",
    "    def B(self, q):\n",
    "        return array([[1], [0]])\n",
    "\n",
    "m_c = 0.5\n",
    "m_p = 0.25\n",
    "l = 0.5\n",
    "cart_pole = CartPole(m_c, m_p, l)"
   ]
  },
  {
   "cell_type": "markdown",
   "metadata": {},
   "source": [
    "We attempt to stabilize the pendulum upright, that is, drive $\\theta$ to $0$. We'll use the normal form transformation:\n",
    "\n",
    "\\begin{equation}\n",
    "    \\bs{\\Phi}(\\mb{q}, \\dot{\\mb{q}}) = \\begin{bmatrix} \\bs{\\eta}(\\mb{q}, \\dot{\\mb{q}}) \\\\ \\mb{z}(\\mb{q}, \\dot{\\mb{q}}) \\end{bmatrix} = \\begin{bmatrix} \\theta \\\\ \\dot{\\theta} \\\\ x \\\\ m_p l \\dot{x} \\cos{\\theta} + m_p l^2 \\dot{\\theta} \\end{bmatrix}.\n",
    "\\end{equation}"
   ]
  },
  {
   "cell_type": "code",
   "execution_count": 2,
   "metadata": {},
   "outputs": [],
   "source": [
    "from core.dynamics import ConfigurationDynamics\n",
    "\n",
    "class CartPoleOutput(ConfigurationDynamics):\n",
    "    def __init__(self, cart_pole):\n",
    "        ConfigurationDynamics.__init__(self, cart_pole, 1)\n",
    "        self.cart_pole = cart_pole\n",
    "    \n",
    "    def y(self, q):\n",
    "        return q[1:]\n",
    "        \n",
    "    def dydq(self, q):\n",
    "        return array([[0, 1]])\n",
    "    \n",
    "    def d2ydq2(self, q):\n",
    "        return zeros((1, 2, 2))\n",
    "    \n",
    "output = CartPoleOutput(cart_pole)"
   ]
  },
  {
   "cell_type": "code",
   "execution_count": 3,
   "metadata": {},
   "outputs": [],
   "source": [
    "from numpy import identity\n",
    "\n",
    "from core.controllers import FBLinController, LQRController\n",
    "\n",
    "Q = 10 * identity(2)\n",
    "R = identity(1)\n",
    "lqr = LQRController.build(output, Q, R)\n",
    "fb_lin = FBLinController(output, lqr)"
   ]
  },
  {
   "cell_type": "code",
   "execution_count": 4,
   "metadata": {},
   "outputs": [],
   "source": [
    "from numpy import linspace, pi\n",
    "\n",
    "x_0 = array([0, pi / 4, 0, 0])\n",
    "ts = linspace(0, 10, 1000 + 1)\n",
    "\n",
    "xs, us = cart_pole.simulate(x_0, fb_lin, ts)"
   ]
  },
  {
   "cell_type": "code",
   "execution_count": 5,
   "metadata": {},
   "outputs": [],
   "source": [
    "from matplotlib.pyplot import subplots, show, tight_layout"
   ]
  },
  {
   "cell_type": "code",
   "execution_count": 6,
   "metadata": {},
   "outputs": [
    {
     "data": {
      "image/png": "[encoded data removed]",
      "text/plain": [
       "<Figure size 576x576 with 4 Axes>"
      ]
     },
     "metadata": {
      "needs_background": "light"
     },
     "output_type": "display_data"
    }
   ],
   "source": [
    "_, axs = subplots(2, 2, figsize=(8, 8))\n",
    "ylabels = ['$x$ (m)', '$\\\\theta$ (rad)', '$\\\\dot{x}$ (m / sec)', '$\\\\dot{\\\\theta}$ (rad / sec)']\n",
    "\n",
    "for ax, data, ylabel in zip(axs.flatten(), xs.T, ylabels):\n",
    "    ax.plot(ts, data, linewidth=3)\n",
    "    ax.set_ylabel(ylabel, fontsize=16)\n",
    "    ax.grid()\n",
    "    \n",
    "for ax in axs[-1]:\n",
    "    ax.set_xlabel('$t$ (sec)', fontsize=16)\n",
    "    \n",
    "tight_layout()\n",
    "show()"
   ]
  },
  {
   "cell_type": "code",
   "execution_count": 7,
   "metadata": {},
   "outputs": [
    {
     "data": {
      "image/png": "[encoded data removed]",
      "text/plain": [
       "<Figure size 288x288 with 1 Axes>"
      ]
     },
     "metadata": {
      "needs_background": "light"
     },
     "output_type": "display_data"
    }
   ],
   "source": [
    "_, ax = subplots(figsize=(4, 4))\n",
    "\n",
    "ax.plot(ts[:-1], us, linewidth=3)\n",
    "ax.grid()\n",
    "ax.set_xlabel('$t$ (sec)', fontsize=16)\n",
    "ax.set_ylabel('$F$ (N)', fontsize=16)\n",
    "\n",
    "show()"
   ]
  }
 ],
 "metadata": {
  "kernelspec": {
   "display_name": "Python 3",
   "language": "python",
   "name": "python3"
  },
  "language_info": {
   "codemirror_mode": {
    "name": "ipython",
    "version": 3
   },
   "file_extension": ".py",
   "mimetype": "text/x-python",
   "name": "python",
   "nbconvert_exporter": "python",
   "pygments_lexer": "ipython3",
   "version": "3.7.3"
  }
 },
 "nbformat": 4,
 "nbformat_minor": 2
}
