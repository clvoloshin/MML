{
 "cells": [
  {
   "cell_type": "code",
   "execution_count": 50,
   "metadata": {
    "code_folding": [
     0
    ]
   },
   "outputs": [],
   "source": [
    "# Imports\n",
    "\n",
    "from core.controllers import FBLinController, LQRController, PDController\n",
    "from core.dynamics import FBLinDynamics, SystemDynamics\n",
    "from core.systems import PlanarQuadrotor\n",
    "from matplotlib.pyplot import cla, clf, figure, grid, legend, plot, show, subplot, xlabel, ylabel\n",
    "from numpy import array, concatenate, cos, identity, linspace, sin, zeros"
   ]
  },
  {
   "cell_type": "code",
   "execution_count": 51,
   "metadata": {
    "code_folding": [
     0
    ]
   },
   "outputs": [],
   "source": [
    "# Extended Quadrotor System Definition\n",
    "\n",
    "class ExtendedPlanarQuadrotor(SystemDynamics):\n",
    "    def __init__(self, planar_quadrotor):\n",
    "        SystemDynamics.__init__(self,8,2)\n",
    "        self.dynamics = planar_quadrotor\n",
    "        \n",
    "    def step(self, x_0, u_0, t_0, t_f, atol=1e-6, rtol=1e-6):\n",
    "        \"\"\"Simulate system from initial state with constant action over a\n",
    "        time interval. Update force estimates with Euler numerical integration\n",
    "        \n",
    "        Approximated using Runge-Kutta 4,5 solver.\n",
    "        \n",
    "        Inputs:\n",
    "        Initial state, x_0: numpy array\n",
    "        Control action, u_0: numpy array\n",
    "        Initial time, t_0: float\n",
    "        Final time, t_f: float\n",
    "        Absolute tolerance, atol: float\n",
    "        Relative tolerance, rtol: float\n",
    "        \n",
    "        Outputs:\n",
    "        State at final time: numpy array\n",
    "        \"\"\"\n",
    "        x_cont = x_0[0:6]\n",
    "        f_t = x_0[6]\n",
    "        f_t_dot = x_0[7]\n",
    "        u_cont = array([f_t, u_0[1]])\n",
    "        delta_t = t_f - t_0\n",
    "        \n",
    "        x_cont = self.dynamics.step(x_cont, u_cont, t_0, t_f, atol, rtol)\n",
    "        f_t = f_t + f_t_dot * (delta_t)\n",
    "        f_t_dot = f_t_dot + u_0[0] * (delta_t)\n",
    "        \n",
    "        return concatenate([x_cont, array([f_t, f_t_dot])])\n",
    "\n"
   ]
  },
  {
   "cell_type": "code",
   "execution_count": 52,
   "metadata": {
    "code_folding": [
     0
    ]
   },
   "outputs": [],
   "source": [
    "# Extended Quadrotor Output Definition\n",
    "\n",
    "class ExtendedPlanarQuadrotorOutput(FBLinDynamics):\n",
    "    def __init__(self, extended_quadrotor):\n",
    "        FBLinDynamics.__init__(self, array([4, 4]))\n",
    "        self.ex_quad = extended_quadrotor\n",
    "        self.quad = self.ex_quad.dynamics\n",
    "        self.params = self.quad.params\n",
    "    \n",
    "    def x_ddot(self, x, t):\n",
    "        m, _, _ = self.params\n",
    "        _, _, theta, _, _, _, f_t, _ = x\n",
    "        \n",
    "        return (1 / m) * (-sin(theta) * f_t)\n",
    "        \n",
    "    def z_ddot(self, x, t):\n",
    "        m, _, g = self.params\n",
    "        _, _, theta, _, _, _, f_t, _ = x\n",
    "    \n",
    "        return -g + (1 / m) * (cos(theta) * f_t)  \n",
    "    \n",
    "    def x_dddot(self, x, t):\n",
    "        m, _, _ = self.params\n",
    "        _, _, theta, _, _, theta_dot, f_t, f_t_dot = x\n",
    "        \n",
    "        return (1 / m) * (-cos(theta) * theta_dot * f_t - sin(theta) * f_t_dot)\n",
    "        \n",
    "    def z_dddot(self, x, t):\n",
    "        m, _, _ = self.params\n",
    "        _, _, theta, _, _, theta_dot, f_t, f_t_dot = x\n",
    "    \n",
    "        return (1 / m) * (-sin(theta) * theta_dot * f_t + cos(theta) * f_t_dot)    \n",
    "        \n",
    "    \n",
    "    def eval(self, x, t):\n",
    "        x_ddot  = self.x_ddot(x, t)\n",
    "        z_ddot  = self.z_ddot(x, t)\n",
    "        x_dddot = self.x_dddot(x, t)\n",
    "        z_dddot = self.z_dddot(x, t)\n",
    "        \n",
    "        return array([x[0], x[3], x_ddot, x_dddot, x[1], x[4], z_ddot, z_dddot])\n",
    "            \n",
    "            \n",
    "    def drift(self, x, t):\n",
    "        _, _, theta, x_dot, z_dot, theta_dot, f_t, f_t_dot = x\n",
    "        x_ddot  = self.x_ddot(x, t)\n",
    "        z_ddot  = self.z_ddot(x, t)\n",
    "        x_dddot = self.x_dddot(x, t)\n",
    "        z_dddot = self.z_dddot(x, t)\n",
    "        m, _, _ = self.params\n",
    "        \n",
    "        x_ddddot_drift = sin(theta) * theta_dot ** 2 - 2 * cos(theta) * theta_dot * f_t_dot\n",
    "        z_ddddot_drift = -cos(theta) * theta_dot ** 2 - 2 * sin(theta) * theta_dot * f_t_dot\n",
    "        \n",
    "        return array([x_dot, x_ddot, x_dddot, (x_ddddot_drift / m), z_dot, z_ddot, z_dddot, (z_ddddot_drift / m)])\n",
    "    \n",
    "    def act(self, x, t):\n",
    "        _, _, theta, _, _, _, f_t, _ = x\n",
    "        m, J, _ = self.params\n",
    "        \n",
    "        act_x = array([[-sin(theta), -f_t * cos(theta) / J]])\n",
    "        act_z = array([[cos(theta), -f_t * sin(theta) / J]])\n",
    "        \n",
    "        return concatenate([zeros((3,2)), act_x, zeros((3,2)), act_z])\n",
    "        "
   ]
  },
  {
   "cell_type": "code",
   "execution_count": 112,
   "metadata": {
    "code_folding": [
     0
    ]
   },
   "outputs": [],
   "source": [
    "# System Definitions\n",
    "m = 2\n",
    "g = 9.81\n",
    "J = 1\n",
    "m_true = 0.9*m\n",
    "J_true = 0.9*J\n",
    "\n",
    "quad = PlanarQuadrotor(m, J)\n",
    "quad_true = PlanarQuadrotor(m_true, J_true)\n",
    "ex_quad = ExtendedPlanarQuadrotor(quad)\n",
    "ex_quad_true = ExtendedPlanarQuadrotor(quad_true)\n",
    "ex_quad_output = ExtendedPlanarQuadrotorOutput(ex_quad)"
   ]
  },
  {
   "cell_type": "code",
   "execution_count": 113,
   "metadata": {
    "code_folding": [
     0
    ]
   },
   "outputs": [],
   "source": [
    "# Controller Definition\n",
    "Q = 200 * identity(8)\n",
    "R = identity(2)\n",
    "lqr = LQRController.build(ex_quad_output, Q, R)\n",
    "fb_lin = FBLinController(ex_quad_output, lqr)"
   ]
  },
  {
   "cell_type": "code",
   "execution_count": 114,
   "metadata": {
    "code_folding": [
     0
    ]
   },
   "outputs": [],
   "source": [
    "# PD 400 Hz Simulation\n",
    "freq = 400 # Hz\n",
    "tend = 20\n",
    "\n",
    "x_0 = array([2, 2, 0, 0, 0, 0, m * g, 0])\n",
    "ts_fblin = linspace(0, tend, tend*freq + 1)\n",
    "fblin_data = ex_quad_true.simulate(x_0, fb_lin, ts_fblin)\n",
    "xs_fblin, us_fblin = fblin_data\n"
   ]
  },
  {
   "cell_type": "code",
   "execution_count": 115,
   "metadata": {
    "code_folding": [
     0
    ]
   },
   "outputs": [
    {
     "data": {
      "image/png": "[encoded data removed]",
      "text/plain": [
       "<Figure size 1440x360 with 5 Axes>"
      ]
     },
     "metadata": {
      "needs_background": "light"
     },
     "output_type": "display_data"
    }
   ],
   "source": [
    "# PLATS\n",
    "\n",
    "figure(figsize=(20, 5))\n",
    "\n",
    "subplot(231)\n",
    "plot(ts_fblin, xs_fblin[:, 0], 'r', linewidth=3)\n",
    "grid()\n",
    "xlabel('Time (sec)', fontsize=16)\n",
    "ylabel('$x (m)$', fontsize=16)\n",
    "\n",
    "subplot(232)\n",
    "plot(ts_fblin, xs_fblin[:, 1], 'r', linewidth=3)\n",
    "grid()\n",
    "xlabel('Time (sec)', fontsize=16)\n",
    "ylabel('$z (m)$', fontsize=16)\n",
    "\n",
    "subplot(233)\n",
    "plot(ts_fblin, xs_fblin[:, 2], 'r', linewidth=3)\n",
    "grid()\n",
    "xlabel('Time (sec)', fontsize=16)\n",
    "ylabel('$\\\\theta (rad)$', fontsize=16)\n",
    "\n",
    "subplot(234)\n",
    "plot(ts_fblin, xs_fblin[:, 6], 'r', linewidth=3)\n",
    "grid()\n",
    "xlabel('Time (sec)', fontsize=16)\n",
    "ylabel('$f_t$', fontsize=16)\n",
    "\n",
    "subplot(235)\n",
    "plot(ts_fblin[:-1], us_fblin[:, 0], 'r', linewidth=3)\n",
    "grid()\n",
    "xlabel('Time (sec)', fontsize=16)\n",
    "ylabel('$\\\\ddot{f}_t$', fontsize=16)\n",
    "\n",
    "\n",
    "show()"
   ]
  }
 ],
 "metadata": {
  "kernelspec": {
   "display_name": "Python 3",
   "language": "python",
   "name": "python3"
  },
  "language_info": {
   "codemirror_mode": {
    "name": "ipython",
    "version": 3
   },
   "file_extension": ".py",
   "mimetype": "text/x-python",
   "name": "python",
   "nbconvert_exporter": "python",
   "pygments_lexer": "ipython3",
   "version": "3.6.6"
  }
 },
 "nbformat": 4,
 "nbformat_minor": 2
}
